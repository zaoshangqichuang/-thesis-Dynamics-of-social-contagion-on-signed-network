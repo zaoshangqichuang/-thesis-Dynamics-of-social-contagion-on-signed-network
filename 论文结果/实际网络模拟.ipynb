{
 "cells": [
  {
   "cell_type": "code",
   "execution_count": 1,
   "metadata": {},
   "outputs": [],
   "source": [
    "import pickle\n",
    "import numpy as np\n",
    "import matplotlib.pyplot as plt\n",
    "import seaborn as sns\n",
    "from SIS_sim import SIS_sim\n",
    "from me_analysis import me_analysis\n",
    "import pandas as pd\n",
    "from matplotlib import cm\n",
    "from matplotlib.colors import ListedColormap, LinearSegmentedColormap\n",
    "from scipy.optimize import curve_fit\n",
    "import networkx as nx\n",
    "%matplotlib inline\n",
    "dir1 = 'npzfile\\\\'\n",
    "dir2 = 'pngfile\\\\'\n",
    "axisfont={'family':'Times New Roman',\n",
    "     'style':'normal',\n",
    "    'weight':'bold',\n",
    "      'color':'black',\n",
    "      'size':14}#轴标题\n",
    "\n",
    "noticefont={'family':'Times New Roman',\n",
    "     'style':'normal',\n",
    "    'weight':'normal',\n",
    "      'color':'black',\n",
    "      'size':15}#注释\n",
    "chfont={'family':'Times New Roman',\n",
    "     'style':'normal',\n",
    "    'weight':'normal',\n",
    "      'color':'black',\n",
    "      'size':14}#注释"
   ]
  },
  {
   "cell_type": "code",
   "execution_count": 4,
   "metadata": {},
   "outputs": [
    {
     "ename": "AttributeError",
     "evalue": "'BA_me_analysis' object has no attribute 'plot_degree_distribution'",
     "output_type": "error",
     "traceback": [
      "\u001b[1;31m---------------------------------------------------------------------------\u001b[0m",
      "\u001b[1;31mAttributeError\u001b[0m                            Traceback (most recent call last)",
      "\u001b[1;32m<ipython-input-4-090db337a0e6>\u001b[0m in \u001b[0;36m<module>\u001b[1;34m()\u001b[0m\n\u001b[0;32m      3\u001b[0m \u001b[0mfig\u001b[0m\u001b[1;33m,\u001b[0m\u001b[0max\u001b[0m \u001b[1;33m=\u001b[0m \u001b[0mplt\u001b[0m\u001b[1;33m.\u001b[0m\u001b[0msubplots\u001b[0m\u001b[1;33m(\u001b[0m\u001b[1;36m1\u001b[0m\u001b[1;33m,\u001b[0m\u001b[1;36m2\u001b[0m\u001b[1;33m,\u001b[0m\u001b[0mfigsize\u001b[0m\u001b[1;33m=\u001b[0m\u001b[1;33m(\u001b[0m\u001b[1;36m2\u001b[0m\u001b[1;33m*\u001b[0m \u001b[1;36m4\u001b[0m \u001b[1;33m+\u001b[0m \u001b[1;36m4\u001b[0m\u001b[1;33m,\u001b[0m\u001b[1;36m4\u001b[0m\u001b[1;33m)\u001b[0m\u001b[1;33m,\u001b[0m\u001b[0mconstrained_layout\u001b[0m\u001b[1;33m=\u001b[0m\u001b[1;32mTrue\u001b[0m\u001b[1;33m,\u001b[0m \u001b[0msqueeze\u001b[0m\u001b[1;33m=\u001b[0m\u001b[1;32mFalse\u001b[0m\u001b[1;33m)\u001b[0m\u001b[1;33m\u001b[0m\u001b[0m\n\u001b[0;32m      4\u001b[0m \u001b[0mdegree_histogram\u001b[0m \u001b[1;33m=\u001b[0m \u001b[0mnx\u001b[0m\u001b[1;33m.\u001b[0m\u001b[0mdegree_histogram\u001b[0m\u001b[1;33m(\u001b[0m\u001b[0mslashdot\u001b[0m\u001b[1;33m.\u001b[0m\u001b[0msignedNetwork\u001b[0m\u001b[1;33m)\u001b[0m\u001b[1;33m\u001b[0m\u001b[0m\n\u001b[1;32m----> 5\u001b[1;33m \u001b[0max1\u001b[0m \u001b[1;33m=\u001b[0m \u001b[0mslashdot\u001b[0m\u001b[1;33m.\u001b[0m\u001b[0mplot_degree_distribution\u001b[0m\u001b[1;33m(\u001b[0m\u001b[0mdegree_histogram\u001b[0m\u001b[1;33m)\u001b[0m\u001b[1;33m\u001b[0m\u001b[0m\n\u001b[0m\u001b[0;32m      6\u001b[0m \u001b[0mdegree_histogram\u001b[0m \u001b[1;33m=\u001b[0m \u001b[0mnx\u001b[0m\u001b[1;33m.\u001b[0m\u001b[0mdegree_histogram\u001b[0m\u001b[1;33m(\u001b[0m\u001b[0mslashdot\u001b[0m\u001b[1;33m.\u001b[0m\u001b[0msignedNetwork\u001b[0m\u001b[1;33m)\u001b[0m\u001b[1;33m\u001b[0m\u001b[0m\n\u001b[0;32m      7\u001b[0m \u001b[0max2\u001b[0m \u001b[1;33m=\u001b[0m \u001b[0mepinion\u001b[0m\u001b[1;33m.\u001b[0m\u001b[0mplot_degree_distribution\u001b[0m\u001b[1;33m(\u001b[0m\u001b[0mdegree_histogram\u001b[0m\u001b[1;33m)\u001b[0m\u001b[1;33m\u001b[0m\u001b[0m\n",
      "\u001b[1;31mAttributeError\u001b[0m: 'BA_me_analysis' object has no attribute 'plot_degree_distribution'"
     ]
    },
    {
     "data": {
      "image/png": "[encoded data removed]",
      "text/plain": [
       "<Figure size 864x288 with 2 Axes>"
      ]
     },
     "metadata": {
      "needs_background": "light"
     },
     "output_type": "display_data"
    }
   ],
   "source": [
    "slashdot = pickle.load(open(\"dataset\\\\\"+\"slashdot_analysis\"+\".pkl\",\"rb\"))\n",
    "epinion = pickle.load(open(\"dataset\\\\\"+\"epinion_analysis\"+\".pkl\",\"rb\"))\n",
    "fig,ax = plt.subplots(1,2,figsize=(2* 4 + 4,4),constrained_layout=True, squeeze=False)\n",
    "degree_histogram = nx.degree_histogram(slashdot.signedNetwork)\n",
    "ax1 = slashdot.plot_degree_distribution(degree_histogram)\n",
    "degree_histogram = nx.degree_histogram(slashdot.signedNetwork)\n",
    "ax2 = epinion.plot_degree_distribution(degree_histogram)"
   ]
  },
  {
   "cell_type": "code",
   "execution_count": null,
   "metadata": {},
   "outputs": [],
   "source": []
  }
 ],
 "metadata": {
  "kernelspec": {
   "display_name": "Python 3",
   "language": "python",
   "name": "python3"
  },
  "language_info": {
   "codemirror_mode": {
    "name": "ipython",
    "version": 3
   },
   "file_extension": ".py",
   "mimetype": "text/x-python",
   "name": "python",
   "nbconvert_exporter": "python",
   "pygments_lexer": "ipython3",
   "version": "3.7.0"
  },
  "toc": {
   "base_numbering": 1,
   "nav_menu": {},
   "number_sections": true,
   "sideBar": true,
   "skip_h1_title": false,
   "title_cell": "Table of Contents",
   "title_sidebar": "Contents",
   "toc_cell": false,
   "toc_position": {},
   "toc_section_display": true,
   "toc_window_display": false
  }
 },
 "nbformat": 4,
 "nbformat_minor": 2
}
